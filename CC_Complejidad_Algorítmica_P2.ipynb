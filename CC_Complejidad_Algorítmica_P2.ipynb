{
  "nbformat": 4,
  "nbformat_minor": 0,
  "metadata": {
    "colab": {
      "name": "CC-Complejidad-Algorítmica-P2.ipynb",
      "provenance": [],
      "collapsed_sections": []
    },
    "kernelspec": {
      "name": "python3",
      "display_name": "Python 3"
    },
    "language_info": {
      "name": "python"
    }
  },
  "cells": [
    {
      "cell_type": "markdown",
      "source": [
        "\n",
        "##**Práctica N2**\n",
        "* **Nombre:** Alexander Vicente\n",
        "* **Ciclo:** 4 B\n",
        "\n",
        "##**Complejidad Algorítmica**\n",
        "\n",
        "###**Introducción a la complejidad algorítmica**\n",
        "La complejidad algorítmica:\n",
        "\n",
        "*  Permite comparar la eficiencia de 2 algoritmos\n",
        "*  Predecir el tiempo que va a tomar resolver un problema\n",
        "*   No solo analiza la complejidad temporal, sino también la complejidad espacial T(n) (Memoria que se necesita)\n",
        "\n",
        "\n",
        "###**Aproximaciones**\n",
        "**¿Como podríamos aplicar nuestra función T(n)?**\n",
        "\n",
        "*   Cronometrar el tiempo en el que corre un algoritmo.\n",
        "\n",
        "      *   No es una buena forma de medir los algoritmos.\n",
        "      *   No se puede predecir cuanto demorara a medida que crece nuestros pasos.\n",
        "\n",
        "*   Contar los pasos con una medida abstracta de operación.\n",
        "      *   Nos puede acercar a una medición ideal.\n",
        "      *   varia mucho de algoritmo en algoritmo y a medida que crece nuestro dataset existen muchos términos que llegan a ser irrelevantes.\n",
        "*   Contar los pasos conforme nos aproximamos al infinito pero con una medida asintótica.\n",
        "\n",
        "\n",
        "###**Medición temporal**\n",
        "* Para una realizar una medida temporal simplemente calculamos la diferencia del tiempo previo y posterior de la ejecución del algoritmo.\n",
        "\n",
        "\n",
        "\n"
      ],
      "metadata": {
        "id": "EhYeCtPiM91Y"
      }
    },
    {
      "cell_type": "code",
      "source": [
        "import time\n",
        "\n",
        "def factorial(n):\n",
        "    respuesta = 1\n",
        "\n",
        "    while n > 1:\n",
        "        respuesta *= n\n",
        "        n -= 1\n",
        "\n",
        "    return respuesta\n",
        "\n",
        "\n",
        "def factorial_r(n):\n",
        "    if n == 1:\n",
        "        return 1\n",
        "\n",
        "    return n * factorial(n - 1)\n",
        "\n",
        "\n",
        "if __name__ == '__main__':\n",
        "    n = 200000\n",
        "\n",
        "    comienzo = time.time()\n",
        "    factorial(n)\n",
        "    final = time.time()\n",
        "    print(final - comienzo)\n",
        "\n",
        "    comienzo = time.time()\n",
        "    factorial_r(n)\n",
        "    final = time.time()\n",
        "    print(final - comienzo)"
      ],
      "metadata": {
        "colab": {
          "base_uri": "https://localhost:8080/"
        },
        "id": "HZ9_vbh3TVbu",
        "outputId": "d5321023-f110-4e59-9165-b696daeadd64"
      },
      "execution_count": null,
      "outputs": [
        {
          "output_type": "stream",
          "name": "stdout",
          "text": [
            "15.470927715301514\n",
            "15.748573064804077\n"
          ]
        }
      ]
    },
    {
      "cell_type": "markdown",
      "source": [
        "###**Conteo abstracto de operación**\n",
        "\n",
        "* Con esta técnica contamos los pasos que realiza nuestro algoritmo. En el siguiente ejemplo la variable respuesta tendrá los números de pasos que realiza nuestro código al ejecutar."
      ],
      "metadata": {
        "id": "kL6ZT8_3Tuf8"
      }
    },
    {
      "cell_type": "code",
      "source": [
        "def f(x):\n",
        "\n",
        "    respuesta = 0\n",
        "\n",
        "    for i in range(1000):\n",
        "        respuesta += 1\n",
        "\n",
        "    for i in range(x):\n",
        "        respuesta += x\n",
        "\n",
        "    for i in range(x):\n",
        "        for j in range(x):\n",
        "            respuesta += 1\n",
        "            respuesta += 1\n",
        "    \n",
        "    return respuesta\n",
        "\n",
        "if __name__ == '__main__':\n",
        "    n = 10\n",
        "    print( 'Número de Pasos :',f(n))"
      ],
      "metadata": {
        "colab": {
          "base_uri": "https://localhost:8080/"
        },
        "id": "4pqOrw3vUDCz",
        "outputId": "846f66ab-f501-4bc9-877f-ea2276f60b86"
      },
      "execution_count": null,
      "outputs": [
        {
          "output_type": "stream",
          "name": "stdout",
          "text": [
            "Número de Pasos : 1300\n"
          ]
        }
      ]
    },
    {
      "cell_type": "markdown",
      "source": [
        "###**Notación asintótica**\n",
        "\n",
        "* No importan las variaciones pequeñas, el enfoque se centra en lo que pasa conforme el tamaño del problema se acerca al infinito.\n",
        "* Tenemos que saber medir a nuestro algoritmo en el mejor, promedio y peor de los casos.\n",
        "* En la notación Big O notation, lo único que importa es el termino de mayor tamaño, sin importar las constantes que las acompañan.\n",
        "\n",
        "######**Ley de la Suma**"
      ],
      "metadata": {
        "id": "Ln5oOln6VgL_"
      }
    },
    {
      "cell_type": "code",
      "source": [
        "# Ley de la suma\n",
        "\n",
        "def f(n):\n",
        "    for i in range(n):\n",
        "        print(i)\n",
        "\n",
        "    for i in range(n):\n",
        "        print(i)\n",
        "\n",
        "# En este caso el mayor término es n\n",
        "# O(n) + O(n) = O(n + n) = O(2n) = O(n)\n",
        "\n",
        "\n",
        "if __name__ == '__main__':\n",
        "    n = 5\n",
        "    f(n)\n"
      ],
      "metadata": {
        "colab": {
          "base_uri": "https://localhost:8080/"
        },
        "id": "PXVbupRYWSC3",
        "outputId": "3d5facb4-4099-4d47-8cb8-5db30df89587"
      },
      "execution_count": null,
      "outputs": [
        {
          "output_type": "stream",
          "name": "stdout",
          "text": [
            "0\n",
            "1\n",
            "2\n",
            "3\n",
            "4\n",
            "0\n",
            "1\n",
            "2\n",
            "3\n",
            "4\n"
          ]
        }
      ]
    },
    {
      "cell_type": "markdown",
      "source": [
        "\n",
        "######**Ley de la Suma #2**"
      ],
      "metadata": {
        "id": "lQov3QNtYPQ-"
      }
    },
    {
      "cell_type": "code",
      "source": [
        "# Ley de la suma\n",
        "\n",
        "def f(n):\n",
        "    for i in range(n):\n",
        "        print(i)\n",
        "\n",
        "    for i in range(n * n):\n",
        "        print(i)\n",
        "\n",
        "# En este caso el mayor término es n²\n",
        "# O(n) + O(n * n) = O(n + n²) = O(n²)\n",
        "\n",
        "if __name__ == '__main__':\n",
        "    n = 5\n",
        "    f(n)"
      ],
      "metadata": {
        "colab": {
          "base_uri": "https://localhost:8080/"
        },
        "id": "7xNLAmVmX56n",
        "outputId": "e38d8643-cd57-48a7-b669-1fde0f9e837a"
      },
      "execution_count": null,
      "outputs": [
        {
          "output_type": "stream",
          "name": "stdout",
          "text": [
            "0\n",
            "1\n",
            "2\n",
            "3\n",
            "4\n",
            "0\n",
            "1\n",
            "2\n",
            "3\n",
            "4\n",
            "5\n",
            "6\n",
            "7\n",
            "8\n",
            "9\n",
            "10\n",
            "11\n",
            "12\n",
            "13\n",
            "14\n",
            "15\n",
            "16\n",
            "17\n",
            "18\n",
            "19\n",
            "20\n",
            "21\n",
            "22\n",
            "23\n",
            "24\n"
          ]
        }
      ]
    },
    {
      "cell_type": "markdown",
      "source": [
        "\n",
        "######**Ley de la multiplicación**"
      ],
      "metadata": {
        "id": "3760aC6nYSS4"
      }
    },
    {
      "cell_type": "code",
      "source": [
        "# Ley de la multiplicación\n",
        "\n",
        "def f(n):\n",
        "\n",
        "    for i in range(n):\n",
        "\n",
        "        for j in range(n):\n",
        "            print(i, j)\n",
        "\n",
        "# En este caso el mayor término es n²\n",
        "# O(n) + O(n * n) = O(n * n) = O(n²)\n",
        "\n",
        "if __name__ == '__main__':\n",
        "    n = 5\n",
        "    f(n)"
      ],
      "metadata": {
        "colab": {
          "base_uri": "https://localhost:8080/"
        },
        "id": "q4164Ld2YVu4",
        "outputId": "ed77a9c1-87de-412f-87cf-6f2b9af0d1b8"
      },
      "execution_count": null,
      "outputs": [
        {
          "output_type": "stream",
          "name": "stdout",
          "text": [
            "0 0\n",
            "0 1\n",
            "0 2\n",
            "0 3\n",
            "0 4\n",
            "1 0\n",
            "1 1\n",
            "1 2\n",
            "1 3\n",
            "1 4\n",
            "2 0\n",
            "2 1\n",
            "2 2\n",
            "2 3\n",
            "2 4\n",
            "3 0\n",
            "3 1\n",
            "3 2\n",
            "3 3\n",
            "3 4\n",
            "4 0\n",
            "4 1\n",
            "4 2\n",
            "4 3\n",
            "4 4\n"
          ]
        }
      ]
    },
    {
      "cell_type": "markdown",
      "source": [
        "######**Recursividad múltiple**"
      ],
      "metadata": {
        "id": "ev6yPPN1ZDY4"
      }
    },
    {
      "cell_type": "code",
      "source": [
        "# Recursividad múltiple\n",
        "\n",
        "def fibonacci(n):\n",
        "\n",
        "    if n == 0 or n == 1:\n",
        "        return 1\n",
        "\n",
        "    return fibonacci(n - 1) +  fibonacci(n - 2)\n",
        "\n",
        "# En este caso el mayor término es 2**n (el símbolo ** denota \"elevado a\"),\n",
        "# ya que realiza recursividad 2 veces por n veces.\n",
        "# O(2**n)\n",
        "\n",
        "if __name__ == '__main__':\n",
        "    n = 10\n",
        "    print(fibonacci(n))"
      ],
      "metadata": {
        "colab": {
          "base_uri": "https://localhost:8080/"
        },
        "id": "T6RTHtt5ZJf_",
        "outputId": "c8db7718-5603-4220-cd74-d14238f1af3e"
      },
      "execution_count": null,
      "outputs": [
        {
          "output_type": "stream",
          "name": "stdout",
          "text": [
            "89\n"
          ]
        }
      ]
    },
    {
      "cell_type": "markdown",
      "source": [
        "###**Clases de complejidad algorítmica**\n",
        "Existen distintos tipos de complejidad algorítmica:\n",
        "\n",
        "*   O(1) Constante\n",
        "    * No importa la cantidad de input que reciba, siempre demorara el mismo tiempo.\n",
        "*   O(n) Lineal\n",
        "    * La complejidad crecerá de forma proporcional a medida que crezca el input.\n",
        "\n",
        "* O(log n) Logarítmica: \n",
        "    * Nuestra función crecerá de forma logarítmica con respecto al input. Esto significa que en un inicio crecerá rápido, pero luego se estabilizara.\n",
        "\n",
        "* O(n log n) Log lineal\n",
        "    * Crecerá de forma logarítmica pero junto con una constante.\n",
        "\n",
        "* O(n²) Polinomial \n",
        "    * Crecen de forma cuadrática. No son recomendables a menos que el input de datos en pequeño.\n",
        "* O(2^n) Exponencial\n",
        "    * Crecerá de forma exponencial, por lo que la carga es muy alta. Para nada recomendable en ningún caso, solo para análisis conceptual.\n",
        "\n",
        "* O(n!) Factorial \n",
        "    * Crece de forma factorial, por lo que al igual que el exponencial su carga es muy alta, por lo que jamas utilizar algoritmos de este tipo.\n",
        "\n",
        "<figure>\n",
        "<center>\n",
        "<img src='https://github.com/caidevOficial/Python_Platzi/blob/main/readme_img/big-o-complexity-chart.png?raw=true)' />\n",
        "<figcaption>Gráfico de la Notación Big - O</figcaption></center>\n",
        "</figure>\n",
        "\n",
        "###**Algoritmos de búsqueda y ordenación**\n",
        "\n",
        "####**Búsqueda lineal**\n",
        "* Consta en buscar si un elemento se encuentra dentro de una lista, array o un sistema ordenado o no ordenado para poder determinar si el elemento se encuentra en el o forma parte de el.\n",
        "\n",
        "¿Cuál es el peor caso del siguiente código? Si nos fijamos existe un for loop que crece según el tamaño de la lista, por lo cual nuestro Big O es O(n).\n"
      ],
      "metadata": {
        "id": "ctKHoIBIZXkc"
      }
    },
    {
      "cell_type": "code",
      "source": [
        "import random\n",
        "\n",
        "def busqueda_lineal(lista, objetivo):\n",
        "    match = False\n",
        "\n",
        "    for elemento in lista: # O(n)\n",
        "        if elemento == objetivo:\n",
        "            match = True\n",
        "            break\n",
        "\n",
        "    return match\n",
        "\n",
        "\n",
        "if __name__ == '__main__':\n",
        "    tamano_de_lista = int(input('De que tamano sera la lista? '))\n",
        "    objetivo = int(input('Que numero quieres encontrar? '))\n",
        "\n",
        "    lista = [random.randint(0, 100) for i in range(tamano_de_lista)]\n",
        "\n",
        "    encontrado = busqueda_lineal(lista, objetivo)\n",
        "    print(lista)\n",
        "    print(f'El elemento {objetivo} {\"esta\" if encontrado else \"no esta\"} en la lista')"
      ],
      "metadata": {
        "colab": {
          "base_uri": "https://localhost:8080/"
        },
        "id": "yzpZ_D9YenlL",
        "outputId": "4077bf7f-8fda-4c29-da54-2563bbb650fd"
      },
      "execution_count": null,
      "outputs": [
        {
          "output_type": "stream",
          "name": "stdout",
          "text": [
            "De que tamano sera la lista? 40\n",
            "Que numero quieres encontrar? 20\n",
            "[21, 26, 45, 9, 4, 76, 51, 52, 64, 36, 100, 45, 64, 65, 38, 16, 26, 97, 3, 26, 2, 53, 41, 24, 20, 74, 60, 52, 90, 99, 23, 7, 53, 20, 53, 77, 31, 5, 7, 3]\n",
            "El elemento 20 esta en la lista\n"
          ]
        }
      ]
    },
    {
      "cell_type": "markdown",
      "source": [
        "####**Búsqueda Binaria**\n",
        "* Toma una estrategia llamada \"Divide y conquista\", la cual consiste en dividir el problema en 2 en cada iteración.\n",
        "* Es necesario ordenar primero la lista.\n",
        "* Es uno de los mejores algoritmos que se tienen hoy en día para búsqueda, ya que reduce significativamente el numero de pasos, y así disminuyendo nuestro Big O.\n",
        "\n",
        "\n",
        "<figure>\n",
        "<center>\n",
        "<figcaption>Caso Promedio</figcaption>\n",
        "<img src='https://github.com/caidevOficial/Python_Platzi/blob/main/readme_img/binary-and-linear-search-animations.gif?raw=true' />\n",
        "</center>\n",
        "</figure>\n",
        "\n",
        "\n",
        "<figure>\n",
        "<center>\n",
        "<figcaption>Peor de los casos</figcaption>\n",
        "<img src='https://github.com/caidevOficial/Python_Platzi/blob/main/readme_img/linear-vs-binary-search-worst-case.gif?raw=true' />\n",
        "</center>\n",
        "</figure>\n",
        "\n",
        "<figure>\n",
        "<center>\n",
        "<figcaption>Mejor de los casos</figcaption>\n",
        "<img src='https://github.com/caidevOficial/Python_Platzi/blob/main/readme_img/linear-vs-binary-search-best-case.gif?raw=true' />\n",
        "</center>\n",
        "</figure>\n",
        "\n",
        " Búsqueda binaria a través de código.\n",
        "\n",
        " \n",
        "\n",
        "\n",
        "\n"
      ],
      "metadata": {
        "id": "bPnQJbrdd8R9"
      }
    },
    {
      "cell_type": "code",
      "source": [
        "import random\n",
        "\n",
        "def busqueda_binaria(lista, comienzo, final, objetivo):\n",
        "    print(f'buscando {objetivo} entre {lista[comienzo]} y {lista[final - 1]}')\n",
        "    if comienzo > final:\n",
        "        return False\n",
        "\n",
        "    medio = (comienzo + final) // 2\n",
        "\n",
        "    if lista[medio] == objetivo:\n",
        "        return True\n",
        "    elif lista[medio] < objetivo:\n",
        "        return busqueda_binaria(lista, medio + 1, final, objetivo)\n",
        "    else:\n",
        "        return busqueda_binaria(lista, comienzo, medio - 1, objetivo)\n",
        "\n",
        "\n",
        "if __name__ == '__main__':\n",
        "    tamano_de_lista = int(input('De que tamano es la lista? '))\n",
        "    objetivo = int(input('Que numero quieres encontrar? '))\n",
        "\n",
        "    lista = sorted([random.randint(0, 100) for i in range(tamano_de_lista)])\n",
        "\n",
        "    encontrado = busqueda_binaria(lista, 0, len(lista), objetivo)\n",
        "\n",
        "    print(lista)\n",
        "    print(f'El elemento {objetivo} {\"esta\" if encontrado else \"no esta\"} en la lista')"
      ],
      "metadata": {
        "colab": {
          "base_uri": "https://localhost:8080/"
        },
        "id": "HINS_SmThiux",
        "outputId": "d7f79469-7f55-49a7-b557-f9e4b3853b65"
      },
      "execution_count": null,
      "outputs": [
        {
          "output_type": "stream",
          "name": "stdout",
          "text": [
            "De que tamano es la lista? 30\n",
            "Que numero quieres encontrar? 14\n",
            "buscando 14 entre 6 y 99\n",
            "buscando 14 entre 6 y 47\n",
            "buscando 14 entre 6 y 15\n",
            "buscando 14 entre 14 y 15\n",
            "buscando 14 entre 14 y 12\n",
            "[6, 11, 12, 12, 14, 15, 17, 19, 22, 25, 27, 28, 47, 47, 49, 53, 53, 54, 58, 60, 65, 77, 77, 79, 81, 86, 86, 89, 98, 99]\n",
            "El elemento 14 esta en la lista\n"
          ]
        }
      ]
    },
    {
      "cell_type": "markdown",
      "source": [
        "###**Ordenamiento de burbuja**\n",
        "* Es un algoritmo que recorre repetidamente una lista que necesita ordenarse.\n",
        "* Compara elementos adyacentes y los intercambia si están en el orden incorrecto.\n",
        "* Se repite hasta que no se requiere mas intercambios, lo que indica que la lista se encuentra ordenada.\n",
        "<figure>\n",
        "<center>\n",
        "<img src='https://github.com/caidevOficial/Python_Platzi/raw/main/readme_img/bubble-sort.gif' />\n",
        "</center>\n",
        "</figure>"
      ],
      "metadata": {
        "id": "mUigBrF-huNX"
      }
    },
    {
      "cell_type": "code",
      "source": [
        "import random\n",
        "\n",
        "\n",
        "def ordenamiento_de_burbuja(lista):\n",
        "    n = len(lista)\n",
        "\n",
        "    for i in range(n):\n",
        "        for j in range(0, n - i - 1): # O(n) * O(n) = O(n * n) = O(n**2)\n",
        "\n",
        "            if lista[j] > lista[j + 1]:\n",
        "                lista[j], lista[j + 1] = lista[j + 1], lista[j]\n",
        "\n",
        "    return lista\n",
        "\n",
        "if __name__ == '__main__':\n",
        "    tamano_de_lista = int(input('De que tamano sera la lista? '))\n",
        "\n",
        "    lista = [random.randint(0, 100) for i in range(tamano_de_lista)]\n",
        "    print(lista)\n",
        "\n",
        "    lista_ordenada = ordenamiento_de_burbuja(lista)\n",
        "    print(lista_ordenada)"
      ],
      "metadata": {
        "colab": {
          "base_uri": "https://localhost:8080/"
        },
        "id": "yl1YN6dFiZMD",
        "outputId": "2c4c9031-6fbf-4a47-90c2-ea778b5e67be"
      },
      "execution_count": null,
      "outputs": [
        {
          "output_type": "stream",
          "name": "stdout",
          "text": [
            "De que tamano sera la lista? 10\n",
            "[15, 27, 26, 15, 35, 47, 69, 70, 79, 33]\n",
            "[15, 15, 26, 27, 33, 35, 47, 69, 70, 79]\n"
          ]
        }
      ]
    },
    {
      "cell_type": "markdown",
      "source": [
        "###**Ordenamiento por inserción**\n",
        "*  Es uno de los algoritmos más comunes que estudian los Científicos del Cómputo.\n",
        "* Es intuitivo y fácil de implementar, pero es muy ineficiente para listas de gran tamaño.\n",
        "* Este algoritmo ordena en \"su lugar\",es decir, no requiere memoria adicional para realizar el ordenamiento ya que simplemente modifican los valores en memoria.\n",
        "\n",
        "\n"
      ],
      "metadata": {
        "id": "x2i0hsWbiggG"
      }
    },
    {
      "cell_type": "code",
      "source": [
        "\n",
        "import random\n",
        "\n",
        "def ordenamiento_por_insercion(lista):\n",
        "\n",
        "    for indice in range(1, len(lista)):\n",
        "        valor_actual = lista[indice]\n",
        "        posicion_actual = indice\n",
        "\n",
        "        while posicion_actual > 0 and lista[posicion_actual - 1] > valor_actual:\n",
        "            lista[posicion_actual] = lista[posicion_actual - 1]\n",
        "            posicion_actual -= 1\n",
        "\n",
        "        lista[posicion_actual] = valor_actual\n",
        "\n",
        "    return lista\n",
        "\n",
        "if __name__ == '__main__':\n",
        "    tamano_de_lista = int(input('De que tamano sera la lista? '))\n",
        "\n",
        "    lista = [random.randint(0, 100) for i in range(tamano_de_lista)]\n",
        "    print(lista)\n",
        "\n",
        "    lista_ordenada = ordenamiento_por_insercion(lista)\n",
        "    print(lista_ordenada)\n",
        "\n",
        "    "
      ],
      "metadata": {
        "colab": {
          "base_uri": "https://localhost:8080/"
        },
        "id": "XjunQvUslAol",
        "outputId": "5d3672ae-dcb9-4d0c-e2bf-da1654048674"
      },
      "execution_count": 13,
      "outputs": [
        {
          "output_type": "stream",
          "name": "stdout",
          "text": [
            "De que tamano sera la lista? 10\n",
            "[96, 57, 72, 54, 41, 33, 92, 21, 95, 38]\n",
            "[21, 33, 38, 41, 54, 57, 72, 92, 95, 96]\n"
          ]
        }
      ]
    },
    {
      "cell_type": "markdown",
      "source": [
        "###**Ordenamiento por inserción**\n",
        "* Creado por John von Neumann el cual aplica el concepto de \"divide y conquista\".\n",
        "* Primero divide una lista en partes iguales hasta que quedan sublistas de 1 o 0 elementos. Luego las recombina en forma ordenada.\n",
        "\n",
        "<figure>\n",
        "<center>\n",
        "<img src='https://github.com/caidevOficial/Python_Platzi/blob/main/readme_img/merge-sort.gif?raw=true' />\n",
        "</center>\n",
        "</figure>\n"
      ],
      "metadata": {
        "id": "9UFBQJmlZmZA"
      }
    },
    {
      "cell_type": "code",
      "source": [
        "import random\n",
        "\n",
        "def ordenamiento_por_mezcla(lista):\n",
        "    if len(lista) > 1:\n",
        "        medio = len(lista) // 2\n",
        "        izquierda = lista[:medio]\n",
        "        derecha = lista[medio:]\n",
        "        print(izquierda, '*' * 5, derecha)\n",
        "\n",
        "        # llamada recursiva en cada mitad\n",
        "        ordenamiento_por_mezcla(izquierda)\n",
        "        ordenamiento_por_mezcla(derecha)\n",
        "\n",
        "        # Iteradores para recorrer las dos sublistas\n",
        "        i = 0\n",
        "        j = 0\n",
        "        # Iterador para la lista principal\n",
        "        k = 0\n",
        "\n",
        "        while i < len(izquierda) and j < len(derecha):\n",
        "            if izquierda[i] < derecha[j]:\n",
        "                lista[k] = izquierda[i]\n",
        "                i += 1\n",
        "            else:\n",
        "                lista[k] = derecha[j]\n",
        "                j += 1\n",
        "\n",
        "            k += 1\n",
        "\n",
        "        while i < len(izquierda):\n",
        "            lista[k] = izquierda[i]\n",
        "            i += 1\n",
        "            k +=1\n",
        "\n",
        "        while j < len(derecha):\n",
        "            lista[k] = derecha[j]\n",
        "            j += 1\n",
        "            k += 1\n",
        "        \n",
        "        print(f'izquierda {izquierda}, derecha {derecha}')\n",
        "        print(lista)\n",
        "        print('-' * 50)\n",
        "\n",
        "    return lista\n",
        "\n",
        "\n",
        "if __name__ == '__main__':\n",
        "    tamano_de_lista = int(input('De que tamano sera la lista? '))\n",
        "\n",
        "    lista = [random.randint(0, 100) for i in range(tamano_de_lista)]\n",
        "    print(lista)\n",
        "    print('-' * 20)\n",
        "\n",
        "    lista_ordenada = ordenamiento_por_mezcla(lista)\n",
        "    print(lista_ordenada)"
      ],
      "metadata": {
        "colab": {
          "base_uri": "https://localhost:8080/"
        },
        "id": "VcUr_ZgsaGOQ",
        "outputId": "ba573fe1-7036-4ca8-bbe0-82ac1cb87fbd"
      },
      "execution_count": 12,
      "outputs": [
        {
          "output_type": "stream",
          "name": "stdout",
          "text": [
            "De que tamano sera la lista? 10\n",
            "[32, 10, 79, 64, 89, 78, 32, 34, 64, 9]\n",
            "--------------------\n",
            "[32, 10, 79, 64, 89] ***** [78, 32, 34, 64, 9]\n",
            "[32, 10] ***** [79, 64, 89]\n",
            "[32] ***** [10]\n",
            "izquierda [32], derecha [10]\n",
            "[10, 32]\n",
            "--------------------------------------------------\n",
            "[79] ***** [64, 89]\n",
            "[64] ***** [89]\n",
            "izquierda [64], derecha [89]\n",
            "[64, 89]\n",
            "--------------------------------------------------\n",
            "izquierda [79], derecha [64, 89]\n",
            "[64, 79, 89]\n",
            "--------------------------------------------------\n",
            "izquierda [10, 32], derecha [64, 79, 89]\n",
            "[10, 32, 64, 79, 89]\n",
            "--------------------------------------------------\n",
            "[78, 32] ***** [34, 64, 9]\n",
            "[78] ***** [32]\n",
            "izquierda [78], derecha [32]\n",
            "[32, 78]\n",
            "--------------------------------------------------\n",
            "[34] ***** [64, 9]\n",
            "[64] ***** [9]\n",
            "izquierda [64], derecha [9]\n",
            "[9, 64]\n",
            "--------------------------------------------------\n",
            "izquierda [34], derecha [9, 64]\n",
            "[9, 34, 64]\n",
            "--------------------------------------------------\n",
            "izquierda [32, 78], derecha [9, 34, 64]\n",
            "[9, 32, 34, 64, 78]\n",
            "--------------------------------------------------\n",
            "izquierda [10, 32, 64, 79, 89], derecha [9, 32, 34, 64, 78]\n",
            "[9, 10, 32, 32, 34, 64, 64, 78, 79, 89]\n",
            "--------------------------------------------------\n",
            "[9, 10, 32, 32, 34, 64, 64, 78, 79, 89]\n"
          ]
        }
      ]
    }
  ]
}